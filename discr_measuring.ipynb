{
 "cells": [
  {
   "cell_type": "code",
   "execution_count": 1,
   "metadata": {
    "collapsed": true
   },
   "outputs": [],
   "source": [
    "import numpy as np\n",
    "import pandas as pd\n",
    "import seaborn as sns\n",
    "import matplotlib.pyplot as plt\n",
    "%matplotlib inline\n",
    "from sklearn.cluster import KMeans"
   ]
  },
  {
   "cell_type": "code",
   "execution_count": 2,
   "metadata": {
    "scrolled": true
   },
   "outputs": [
    {
     "data": {
      "text/html": [
       "<div>\n",
       "<style scoped>\n",
       "    .dataframe tbody tr th:only-of-type {\n",
       "        vertical-align: middle;\n",
       "    }\n",
       "\n",
       "    .dataframe tbody tr th {\n",
       "        vertical-align: top;\n",
       "    }\n",
       "\n",
       "    .dataframe thead th {\n",
       "        text-align: right;\n",
       "    }\n",
       "</style>\n",
       "<table border=\"1\" class=\"dataframe\">\n",
       "  <thead>\n",
       "    <tr style=\"text-align: right;\">\n",
       "      <th></th>\n",
       "      <th>Creditability</th>\n",
       "      <th>Account Balance</th>\n",
       "      <th>Duration of Credit (month)</th>\n",
       "      <th>Payment Status of Previous Credit</th>\n",
       "      <th>Purpose</th>\n",
       "      <th>Credit Amount</th>\n",
       "      <th>Value Savings/Stocks</th>\n",
       "      <th>Length of current employment</th>\n",
       "      <th>Instalment per cent</th>\n",
       "      <th>Sex &amp; Marital Status</th>\n",
       "      <th>...</th>\n",
       "      <th>Duration in Current address</th>\n",
       "      <th>Most valuable available asset</th>\n",
       "      <th>Age (years)</th>\n",
       "      <th>Concurrent Credits</th>\n",
       "      <th>Type of apartment</th>\n",
       "      <th>No of Credits at this Bank</th>\n",
       "      <th>Occupation</th>\n",
       "      <th>No of dependents</th>\n",
       "      <th>Telephone</th>\n",
       "      <th>Foreign Worker</th>\n",
       "    </tr>\n",
       "  </thead>\n",
       "  <tbody>\n",
       "    <tr>\n",
       "      <th>0</th>\n",
       "      <td>1</td>\n",
       "      <td>1</td>\n",
       "      <td>18</td>\n",
       "      <td>4</td>\n",
       "      <td>2</td>\n",
       "      <td>1049</td>\n",
       "      <td>1</td>\n",
       "      <td>2</td>\n",
       "      <td>4</td>\n",
       "      <td>2</td>\n",
       "      <td>...</td>\n",
       "      <td>4</td>\n",
       "      <td>2</td>\n",
       "      <td>21</td>\n",
       "      <td>3</td>\n",
       "      <td>1</td>\n",
       "      <td>1</td>\n",
       "      <td>3</td>\n",
       "      <td>1</td>\n",
       "      <td>1</td>\n",
       "      <td>1</td>\n",
       "    </tr>\n",
       "    <tr>\n",
       "      <th>1</th>\n",
       "      <td>1</td>\n",
       "      <td>1</td>\n",
       "      <td>9</td>\n",
       "      <td>4</td>\n",
       "      <td>0</td>\n",
       "      <td>2799</td>\n",
       "      <td>1</td>\n",
       "      <td>3</td>\n",
       "      <td>2</td>\n",
       "      <td>3</td>\n",
       "      <td>...</td>\n",
       "      <td>2</td>\n",
       "      <td>1</td>\n",
       "      <td>36</td>\n",
       "      <td>3</td>\n",
       "      <td>1</td>\n",
       "      <td>2</td>\n",
       "      <td>3</td>\n",
       "      <td>2</td>\n",
       "      <td>1</td>\n",
       "      <td>1</td>\n",
       "    </tr>\n",
       "    <tr>\n",
       "      <th>2</th>\n",
       "      <td>1</td>\n",
       "      <td>2</td>\n",
       "      <td>12</td>\n",
       "      <td>2</td>\n",
       "      <td>9</td>\n",
       "      <td>841</td>\n",
       "      <td>2</td>\n",
       "      <td>4</td>\n",
       "      <td>2</td>\n",
       "      <td>2</td>\n",
       "      <td>...</td>\n",
       "      <td>4</td>\n",
       "      <td>1</td>\n",
       "      <td>23</td>\n",
       "      <td>3</td>\n",
       "      <td>1</td>\n",
       "      <td>1</td>\n",
       "      <td>2</td>\n",
       "      <td>1</td>\n",
       "      <td>1</td>\n",
       "      <td>1</td>\n",
       "    </tr>\n",
       "    <tr>\n",
       "      <th>3</th>\n",
       "      <td>1</td>\n",
       "      <td>1</td>\n",
       "      <td>12</td>\n",
       "      <td>4</td>\n",
       "      <td>0</td>\n",
       "      <td>2122</td>\n",
       "      <td>1</td>\n",
       "      <td>3</td>\n",
       "      <td>3</td>\n",
       "      <td>3</td>\n",
       "      <td>...</td>\n",
       "      <td>2</td>\n",
       "      <td>1</td>\n",
       "      <td>39</td>\n",
       "      <td>3</td>\n",
       "      <td>1</td>\n",
       "      <td>2</td>\n",
       "      <td>2</td>\n",
       "      <td>2</td>\n",
       "      <td>1</td>\n",
       "      <td>2</td>\n",
       "    </tr>\n",
       "    <tr>\n",
       "      <th>4</th>\n",
       "      <td>1</td>\n",
       "      <td>1</td>\n",
       "      <td>12</td>\n",
       "      <td>4</td>\n",
       "      <td>0</td>\n",
       "      <td>2171</td>\n",
       "      <td>1</td>\n",
       "      <td>3</td>\n",
       "      <td>4</td>\n",
       "      <td>3</td>\n",
       "      <td>...</td>\n",
       "      <td>4</td>\n",
       "      <td>2</td>\n",
       "      <td>38</td>\n",
       "      <td>1</td>\n",
       "      <td>2</td>\n",
       "      <td>2</td>\n",
       "      <td>2</td>\n",
       "      <td>1</td>\n",
       "      <td>1</td>\n",
       "      <td>2</td>\n",
       "    </tr>\n",
       "  </tbody>\n",
       "</table>\n",
       "<p>5 rows × 21 columns</p>\n",
       "</div>"
      ],
      "text/plain": [
       "   Creditability  Account Balance  Duration of Credit (month)  \\\n",
       "0              1                1                          18   \n",
       "1              1                1                           9   \n",
       "2              1                2                          12   \n",
       "3              1                1                          12   \n",
       "4              1                1                          12   \n",
       "\n",
       "   Payment Status of Previous Credit  Purpose  Credit Amount  \\\n",
       "0                                  4        2           1049   \n",
       "1                                  4        0           2799   \n",
       "2                                  2        9            841   \n",
       "3                                  4        0           2122   \n",
       "4                                  4        0           2171   \n",
       "\n",
       "   Value Savings/Stocks  Length of current employment  Instalment per cent  \\\n",
       "0                     1                             2                    4   \n",
       "1                     1                             3                    2   \n",
       "2                     2                             4                    2   \n",
       "3                     1                             3                    3   \n",
       "4                     1                             3                    4   \n",
       "\n",
       "   Sex & Marital Status       ...        Duration in Current address  \\\n",
       "0                     2       ...                                  4   \n",
       "1                     3       ...                                  2   \n",
       "2                     2       ...                                  4   \n",
       "3                     3       ...                                  2   \n",
       "4                     3       ...                                  4   \n",
       "\n",
       "   Most valuable available asset  Age (years)  Concurrent Credits  \\\n",
       "0                              2           21                   3   \n",
       "1                              1           36                   3   \n",
       "2                              1           23                   3   \n",
       "3                              1           39                   3   \n",
       "4                              2           38                   1   \n",
       "\n",
       "   Type of apartment  No of Credits at this Bank  Occupation  \\\n",
       "0                  1                           1           3   \n",
       "1                  1                           2           3   \n",
       "2                  1                           1           2   \n",
       "3                  1                           2           2   \n",
       "4                  2                           2           2   \n",
       "\n",
       "   No of dependents  Telephone  Foreign Worker  \n",
       "0                 1          1               1  \n",
       "1                 2          1               1  \n",
       "2                 1          1               1  \n",
       "3                 2          1               2  \n",
       "4                 1          1               2  \n",
       "\n",
       "[5 rows x 21 columns]"
      ]
     },
     "execution_count": 2,
     "metadata": {},
     "output_type": "execute_result"
    }
   ],
   "source": [
    "data = pd.read_csv('index.csv')\n",
    "data.head()"
   ]
  },
  {
   "cell_type": "markdown",
   "metadata": {},
   "source": [
    "Define two sets of features as per Laura's summary:\n",
    "- legal only contains those which are clearly ok to use\n",
    "- maybe contains also the legally ambiguous features"
   ]
  },
  {
   "cell_type": "code",
   "execution_count": 3,
   "metadata": {
    "collapsed": true
   },
   "outputs": [],
   "source": [
    "legal = data.columns[ [1, 3, 5, 6, 8, 10, 12, 14, 16 ] ]\n",
    "maybe = data.columns[ [1, 2, 3, 4, 5, 6, 8, 10, 11, 12, 14, 15, 16, 17 ] ]"
   ]
  },
  {
   "cell_type": "code",
   "execution_count": 4,
   "metadata": {
    "scrolled": true
   },
   "outputs": [
    {
     "name": "stdout",
     "output_type": "stream",
     "text": [
      "     Creditability  Account Balance  Duration of Credit (month)  \\\n",
      "934              0                1                          16   \n",
      "935              0                1                          20   \n",
      "976              0                2                          48   \n",
      "986              0                1                          14   \n",
      "\n",
      "     Payment Status of Previous Credit  Purpose  Credit Amount  \\\n",
      "934                                  4        0           2625   \n",
      "935                                  4        0           2235   \n",
      "976                                  0       10          18424   \n",
      "986                                  2        0           8978   \n",
      "\n",
      "     Value Savings/Stocks  Length of current employment  Instalment per cent  \\\n",
      "934                     1                             5                    2   \n",
      "935                     1                             3                    4   \n",
      "976                     1                             3                    1   \n",
      "986                     1                             5                    1   \n",
      "\n",
      "     Sex & Marital Status       ...        Duration in Current address  \\\n",
      "934                     3       ...                                  4   \n",
      "935                     4       ...                                  2   \n",
      "976                     2       ...                                  2   \n",
      "986                     1       ...                                  4   \n",
      "\n",
      "     Most valuable available asset  Age (years)  Concurrent Credits  \\\n",
      "934                              2           43                   3   \n",
      "935                              2           33                   1   \n",
      "976                              2           32                   1   \n",
      "986                              2           45                   3   \n",
      "\n",
      "     Type of apartment  No of Credits at this Bank  Occupation  \\\n",
      "934                  1                           1           3   \n",
      "935                  1                           2           3   \n",
      "976                  2                           1           4   \n",
      "986                  2                           1           4   \n",
      "\n",
      "     No of dependents  Telephone  Foreign Worker  \n",
      "934                 1          2               2  \n",
      "935                 1          1               2  \n",
      "976                 1          2               2  \n",
      "986                 1          2               2  \n",
      "\n",
      "[4 rows x 21 columns]\n"
     ]
    }
   ],
   "source": [
    "print(data[(data['Foreign Worker']==2) & (data['Creditability']==0)])"
   ]
  },
  {
   "cell_type": "code",
   "execution_count": 5,
   "metadata": {},
   "outputs": [
    {
     "data": {
      "text/plain": [
       "1    700\n",
       "0    300\n",
       "Name: Creditability, dtype: int64"
      ]
     },
     "execution_count": 5,
     "metadata": {},
     "output_type": "execute_result"
    }
   ],
   "source": [
    "data.Creditability.value_counts()"
   ]
  },
  {
   "cell_type": "code",
   "execution_count": 6,
   "metadata": {
    "collapsed": true
   },
   "outputs": [],
   "source": [
    "data['Gender'] = [((data['Sex & Marital Status']==1) | (data['Sex & Marital Status']==3) | (data['Sex & Marital Status']==4))][0]"
   ]
  },
  {
   "cell_type": "code",
   "execution_count": 7,
   "metadata": {
    "collapsed": true
   },
   "outputs": [],
   "source": [
    "male = data[(data['Sex & Marital Status']==1) | (data['Sex & Marital Status']==3) | (data['Sex & Marital Status']==4)]\n",
    "female = data[(data['Sex & Marital Status']==2) | (data['Sex & Marital Status']==5)]"
   ]
  },
  {
   "cell_type": "markdown",
   "metadata": {},
   "source": [
    "A quick and simple discrimination measure: males are slightly more often assigned good creditability in the data."
   ]
  },
  {
   "cell_type": "code",
   "execution_count": 8,
   "metadata": {},
   "outputs": [
    {
     "name": "stdout",
     "output_type": "stream",
     "text": [
      "Ratio of males (n = 690) with good credit risk: 0.72\n",
      "Ratio of females (n = 310) with good credit risk: 0.65\n"
     ]
    }
   ],
   "source": [
    "print('Ratio of males (n = %d) with good credit risk: %.2f' % (male.shape[0], np.sum(male.Creditability==1) / male.shape[0]))\n",
    "print('Ratio of females (n = %d) with good credit risk: %.2f' % (female.shape[0], np.sum(female.Creditability==1) / female.shape[0]))"
   ]
  },
  {
   "cell_type": "code",
   "execution_count": 9,
   "metadata": {},
   "outputs": [
    {
     "name": "stdout",
     "output_type": "stream",
     "text": [
      "Ratio of foreign workers (n = 963) with good credit risk: 0.69\n",
      "Ratio of non-foreign (n = 37) with good credit risk: 0.89\n"
     ]
    },
    {
     "data": {
      "text/plain": [
       "Ttest_indResult(statistic=-3.7004702925306003, pvalue=0.00061753543257818389)"
      ]
     },
     "execution_count": 9,
     "metadata": {},
     "output_type": "execute_result"
    }
   ],
   "source": [
    "fw = data[(data['Foreign Worker']==1)]\n",
    "nfw=data[(data['Foreign Worker']==2)]\n",
    "\n",
    "print('Ratio of foreign workers (n = %d) with good credit risk: %.2f' % (fw.shape[0], np.sum(fw.Creditability==1) / fw.shape[0]))\n",
    "print('Ratio of non-foreign (n = %d) with good credit risk: %.2f' % (nfw.shape[0], np.sum(nfw.Creditability==1) / nfw.shape[0]))\n",
    "\n",
    "from scipy import stats\n",
    "stats.ttest_ind(fw.Creditability, nfw.Creditability, equal_var=False)"
   ]
  },
  {
   "cell_type": "markdown",
   "metadata": {},
   "source": [
    "Discrimination measuring function, returns all, explainable and unexplainable discrimination"
   ]
  },
  {
   "cell_type": "code",
   "execution_count": 10,
   "metadata": {
    "collapsed": true
   },
   "outputs": [],
   "source": [
    "def discrimination(data, target, sens, expl, max_corr=.1):\n",
    "    # target\n",
    "    # sens: sensitive attribute\n",
    "    # expl: explanatory attribute(s), str or list\n",
    "    group_priv = data[data[sens]==2]\n",
    "    group_prot = data[data[sens]==1]\n",
    "    n_priv = group_priv.shape[0]\n",
    "    n_prot = group_prot.shape[0]\n",
    "    \n",
    "    D_all = np.sum(group_priv[target]==1)/n_priv - np.sum(group_prot[target] == 1)/n_prot\n",
    "    print('Total discrimination: %.2f' % D_all)\n",
    "    \n",
    "    # multiple explanatory attributes\n",
    "    if isinstance(expl, list):\n",
    "        high_corr = list(data.columns[np.abs(data.corr()[sens].sort_values()) > max_corr])\n",
    "        for e in expl: \n",
    "            if e in high_corr: \n",
    "                print(e, 'is highly correlated with', sens)\n",
    "        expl = [e for e in expl if e not in high_corr]\n",
    "        data_expl = pd.Series(KMeans(n_clusters=4).fit(data[expl]).labels_)\n",
    "    else:\n",
    "        data_expl = data[expl]\n",
    "    \n",
    "    data_expl_priv = data_expl[data[sens]==2]\n",
    "    data_expl_prot = data_expl[data[sens]==1]\n",
    "        \n",
    "    expl_values = data_expl.unique()\n",
    "    D_expl = 0 \n",
    "    \n",
    "    for e_i in expl_values:\n",
    "        P_star = (np.sum((group_priv[target]==1) & (data_expl_priv == e_i))/n_priv + \n",
    "                  np.sum((group_prot[target]==1) & (data_expl_prot == e_i))/n_prot)/2\n",
    "        D_expl += (np.sum(data_expl_priv == e_i)/n_priv - np.sum(data_expl_prot == e_i)/n_prot) * P_star\n",
    "        \n",
    "    print('Discrimination explainable by %s: %.2f' % (', '.join(expl), D_expl))\n",
    "    \n",
    "    D_illegal = D_all - D_expl\n",
    "    print('Unexplainable discrimination: %.2f' % D_illegal)\n",
    "    \n",
    "    return (D_all, D_expl, D_illegal)\n",
    "    "
   ]
  },
  {
   "cell_type": "markdown",
   "metadata": {},
   "source": [
    "### Measure discrimination in data"
   ]
  },
  {
   "cell_type": "code",
   "execution_count": 14,
   "metadata": {},
   "outputs": [
    {
     "name": "stdout",
     "output_type": "stream",
     "text": [
      "Total discrimination: 0.20\n",
      "Discrimination explainable by C, o, n, c, u, r, r, e, n, t,  , C, r, e, d, i, t, s: 0.02\n",
      "Unexplainable discrimination: 0.18\n"
     ]
    },
    {
     "data": {
      "text/plain": [
       "(0.19926468524599361, 0.016012631400575909, 0.18325205384541771)"
      ]
     },
     "execution_count": 14,
     "metadata": {},
     "output_type": "execute_result"
    }
   ],
   "source": [
    "discrimination(data, 'Creditability', 'Foreign Worker', 'Concurrent Credits')"
   ]
  },
  {
   "cell_type": "code",
   "execution_count": 11,
   "metadata": {
    "scrolled": false
   },
   "outputs": [
    {
     "name": "stdout",
     "output_type": "stream",
     "text": [
      "Total discrimination: 0.20\n",
      "Account Balance is highly correlated with Foreign Worker\n",
      "Discrimination explainable by Payment Status of Previous Credit, Credit Amount, Value Savings/Stocks, Instalment per cent, Guarantors, Most valuable available asset, Concurrent Credits, No of Credits at this Bank: 0.05\n",
      "Unexplainable discrimination: 0.15\n"
     ]
    },
    {
     "data": {
      "text/plain": [
       "(0.19926468524599361, 0.05325178283200506, 0.14601290241398857)"
      ]
     },
     "execution_count": 11,
     "metadata": {},
     "output_type": "execute_result"
    }
   ],
   "source": [
    "discrimination(data, 'Creditability', 'Foreign Worker', list(legal))"
   ]
  },
  {
   "cell_type": "markdown",
   "metadata": {},
   "source": [
    "Categorical variables should probably be one-hot encoded."
   ]
  },
  {
   "cell_type": "code",
   "execution_count": 12,
   "metadata": {
    "collapsed": true
   },
   "outputs": [],
   "source": [
    "from sklearn.model_selection import KFold, cross_val_score, train_test_split, GridSearchCV\n",
    "from sklearn.metrics import accuracy_score, confusion_matrix, classification_report, fbeta_score\n",
    "\n",
    "from sklearn.ensemble import RandomForestClassifier\n",
    "from sklearn.linear_model import LogisticRegression\n",
    "from sklearn.tree import DecisionTreeClassifier\n",
    "from sklearn.naive_bayes import GaussianNB\n",
    "from sklearn.svm import SVC"
   ]
  },
  {
   "cell_type": "code",
   "execution_count": 13,
   "metadata": {
    "collapsed": true
   },
   "outputs": [],
   "source": [
    "data['Credit Amount'] = np.log(data['Credit Amount'])\n",
    "X = data[data.columns[1:]]\n",
    "y = data['Creditability']\n",
    "X_train, X_test, y_train, y_test = train_test_split(X, y, random_state=0)"
   ]
  },
  {
   "cell_type": "markdown",
   "metadata": {},
   "source": [
    "### Measure discrimination in decisions"
   ]
  },
  {
   "cell_type": "code",
   "execution_count": 19,
   "metadata": {},
   "outputs": [
    {
     "name": "stdout",
     "output_type": "stream",
     "text": [
      "Accuracy: 0.764\n",
      "Total discrimination: 0.20\n",
      "Account Balance is highly correlated with Foreign Worker\n",
      "Payment Status of Previous Credit is highly correlated with Foreign Worker\n",
      "Discrimination explainable by Credit Amount, Value Savings/Stocks, Instalment per cent, Guarantors, Most valuable available asset, Concurrent Credits, No of Credits at this Bank: 0.04\n",
      "Unexplainable discrimination: 0.16\n"
     ]
    },
    {
     "data": {
      "text/plain": [
       "{'Account Balance': 0.58999999999999997,\n",
       " 'Credit Amount': -0.28999999999999998,\n",
       " 'Duration of Credit (month)': 0.37,\n",
       " 'Instalment per cent': 0.19,\n",
       " 'Length of current employment': -0.20000000000000001,\n",
       " 'Payment Status of Previous Credit': -0.20999999999999999,\n",
       " 'Purpose': 0.20999999999999999,\n",
       " 'Sex & Marital Status': 0.040000000000000001,\n",
       " 'Value Savings/Stocks': 0.25}"
      ]
     },
     "execution_count": 19,
     "metadata": {},
     "output_type": "execute_result"
    }
   ],
   "source": [
    "lr = LogisticRegression().fit(X_train[legal], y_train)\n",
    "coefs = dict(zip(X.columns, np.round(list(lr.coef_[0]), 2)))\n",
    "y_pred = lr.predict(X_test[legal])\n",
    "print('Accuracy:', accuracy_score(y_test, y_pred))\n",
    "data_test = X_test.copy()\n",
    "data_test.reset_index(inplace=True)\n",
    "data_test['Creditability'] = y_pred\n",
    "discrimination(data_test, 'Creditability', 'Foreign Worker', list(legal))\n",
    "coefs"
   ]
  },
  {
   "cell_type": "markdown",
   "metadata": {},
   "source": [
    "Have a look at prediction performance;\n",
    "- only cross-validation scores (using the whole dataset)at this point, no parameter tuning\n",
    "- F1 score chosen somewhat arbitrarily"
   ]
  },
  {
   "cell_type": "code",
   "execution_count": 10,
   "metadata": {
    "collapsed": true
   },
   "outputs": [],
   "source": [
    "models = []\n",
    "models.append(('RF', RandomForestClassifier()))\n",
    "models.append(('LR', LogisticRegression()))\n",
    "models.append(('DT', DecisionTreeClassifier()))\n",
    "models.append(('NB', GaussianNB()))\n",
    "models.append(('SVC', SVC()))\n",
    "results = pd.DataFrame(0, index=[m[0] for m in models], columns=['all', 'maybe', 'legal'])"
   ]
  },
  {
   "cell_type": "code",
   "execution_count": 11,
   "metadata": {},
   "outputs": [
    {
     "name": "stdout",
     "output_type": "stream",
     "text": [
      "Scores using all data\n",
      "RF: 0.78 (0.06)\n",
      "LR: 0.82 (0.06)\n",
      "DT: 0.78 (0.02)\n",
      "NB: 0.75 (0.11)\n",
      "SVC: 0.82 (0.02)\n"
     ]
    }
   ],
   "source": [
    "print('Scores using all data')\n",
    "for name, model in models:\n",
    "    cv_res = cross_val_score(model, X, y, cv=10, scoring='f1')\n",
    "    results.loc[name, 'all'] = cv_res.mean()\n",
    "    print('%s: %.2f (%.2f)' % (name, cv_res.mean(), cv_res.std()))\n",
    "    "
   ]
  },
  {
   "cell_type": "code",
   "execution_count": 12,
   "metadata": {},
   "outputs": [
    {
     "name": "stdout",
     "output_type": "stream",
     "text": [
      "Scores using legal data\n",
      "RF: 0.78 (0.04)\n",
      "LR: 0.82 (0.05)\n",
      "DT: 0.74 (0.06)\n",
      "NB: 0.78 (0.09)\n",
      "SVC: 0.82 (0.05)\n"
     ]
    }
   ],
   "source": [
    "print('Scores using legal data')\n",
    "for name, model in models:\n",
    "    cv_res = cross_val_score(model, X[legal], y, cv=10, scoring='f1')\n",
    "    results.loc[name, 'legal'] = cv_res.mean()\n",
    "    print('%s: %.2f (%.2f)' % (name, cv_res.mean(), cv_res.std()))\n"
   ]
  },
  {
   "cell_type": "code",
   "execution_count": 13,
   "metadata": {},
   "outputs": [
    {
     "name": "stdout",
     "output_type": "stream",
     "text": [
      "Scores using maybe ok data\n",
      "RF: 0.80 (0.04)\n",
      "LR: 0.82 (0.06)\n",
      "DT: 0.75 (0.05)\n",
      "NB: 0.78 (0.09)\n",
      "SVC: 0.81 (0.04)\n"
     ]
    }
   ],
   "source": [
    "print('Scores using maybe ok data')\n",
    "for name, model in models:\n",
    "    cv_res = cross_val_score(model, X[maybe], y, cv=10, scoring='f1')\n",
    "    results.loc[name, 'maybe'] = cv_res.mean()\n",
    "    print('%s: %.2f (%.2f)' % (name, cv_res.mean(), cv_res.std()))"
   ]
  },
  {
   "cell_type": "code",
   "execution_count": 14,
   "metadata": {},
   "outputs": [
    {
     "data": {
      "image/png": "[encoded data removed]",
      "text/plain": [
       "<matplotlib.figure.Figure at 0x2c75c5ea90>"
      ]
     },
     "metadata": {},
     "output_type": "display_data"
    }
   ],
   "source": [
    "plt.rcParams['figure.figsize'] = [10, 6]\n",
    "results.T.plot();"
   ]
  },
  {
   "cell_type": "markdown",
   "metadata": {
    "collapsed": true
   },
   "source": [
    "The overall trend is as expected: less features leads to worse results. NB and SVC are exceptions, but this may be randomness due to small data."
   ]
  }
 ],
 "metadata": {
  "kernelspec": {
   "display_name": "Python 3",
   "language": "python",
   "name": "python3"
  },
  "language_info": {
   "codemirror_mode": {
    "name": "ipython",
    "version": 3
   },
   "file_extension": ".py",
   "mimetype": "text/x-python",
   "name": "python",
   "nbconvert_exporter": "python",
   "pygments_lexer": "ipython3",
   "version": "3.6.1"
  }
 },
 "nbformat": 4,
 "nbformat_minor": 2
}
