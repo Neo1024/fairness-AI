{
 "cells": [
  {
   "cell_type": "code",
   "execution_count": 113,
   "metadata": {},
   "outputs": [],
   "source": [
    "import numpy as np\n",
    "import pandas as pd\n",
    "import matplotlib.pyplot as plt\n",
    "\n",
    "# from keras.models import Sequential, Model\n",
    "# from keras.layers import Dense, Input\n",
    "# from keras.layers import Dropout, Reshape\n",
    "# from keras.layers import Conv1D, Flatten, AveragePooling1D, MaxPooling1D\n",
    "# from keras.utils import to_categorical\n",
    "# from keras.wrappers.scikit_learn import KerasClassifier\n",
    "\n",
    "# from sklearn.model_selection import cross_val_score\n",
    "# from sklearn.model_selection import StratifiedKFold\n",
    "# from sklearn.preprocessing import StandardScaler\n",
    "# from sklearn.pipeline import Pipeline\n",
    "from sklearn.utils import resample\n",
    "from sklearn.cluster import KMeans"
   ]
  },
  {
   "cell_type": "code",
   "execution_count": 114,
   "metadata": {},
   "outputs": [],
   "source": [
    "def discrimination(data, target, sens, expl, max_corr=.1):\n",
    "    # target\n",
    "    # sens: sensitive attribute\n",
    "    # expl: explanatory attribute(s), str or list\n",
    "    group_priv = data[data[sens]==2]\n",
    "    group_prot = data[data[sens]==1]\n",
    "    n_priv = group_priv.shape[0]\n",
    "    n_prot = group_prot.shape[0]\n",
    "    \n",
    "    D_all = np.sum(group_priv[target]==1)/n_priv - np.sum(group_prot[target] == 1)/n_prot\n",
    "    print('Total discrimination: %.2f' % D_all)\n",
    "    \n",
    "    # multiple explanatory attributes\n",
    "    if isinstance(expl, list):\n",
    "        high_corr = list(data.columns[np.abs(data.corr()[sens].sort_values()) > max_corr])\n",
    "        for e in expl: \n",
    "            if e in high_corr: \n",
    "                print(e, 'is highly correlated with', sens)\n",
    "        expl = [e for e in expl if e not in high_corr]\n",
    "        data_expl = pd.Series(KMeans(n_clusters=6).fit(data[expl]).labels_)\n",
    "    else:\n",
    "        data_expl = data[expl]\n",
    "    \n",
    "    data_expl_priv = data_expl[data[sens]==2]\n",
    "    data_expl_prot = data_expl[data[sens]==1]\n",
    "        \n",
    "    expl_values = data_expl.unique()\n",
    "    D_expl = 0 \n",
    "    \n",
    "    for e_i in expl_values:\n",
    "        P_star = (np.sum((group_priv[target]==1) & (data_expl_priv == e_i))/n_priv + \n",
    "                  np.sum((group_prot[target]==1) & (data_expl_prot == e_i))/n_prot)/2\n",
    "        D_expl += (np.sum(data_expl_priv == e_i)/n_priv - np.sum(data_expl_prot == e_i)/n_prot) * P_star\n",
    "        \n",
    "    print('Discrimination explainable by %s: %.2f' % (', '.join(expl), D_expl))\n",
    "    \n",
    "    D_illegal = D_all - D_expl\n",
    "    print('Unexplainable discrimination: %.2f' % D_illegal)\n",
    "    \n",
    "    return (D_all, D_expl, D_illegal)"
   ]
  },
  {
   "cell_type": "code",
   "execution_count": 115,
   "metadata": {},
   "outputs": [
    {
     "data": {
      "text/plain": [
       "Index(['Creditability', 'Account Balance', 'Duration of Credit (month)',\n",
       "       'Payment Status of Previous Credit', 'Purpose', 'Credit Amount',\n",
       "       'Value Savings/Stocks', 'Length of current employment',\n",
       "       'Instalment per cent', 'Sex & Marital Status', 'Guarantors',\n",
       "       'Duration in Current address', 'Most valuable available asset',\n",
       "       'Age (years)', 'Concurrent Credits', 'Type of apartment',\n",
       "       'No of Credits at this Bank', 'Occupation', 'No of dependents',\n",
       "       'Telephone', 'Foreign Worker'],\n",
       "      dtype='object')"
      ]
     },
     "execution_count": 115,
     "metadata": {},
     "output_type": "execute_result"
    }
   ],
   "source": [
    "credit_df = pd.read_csv('./dataset.csv')\n",
    "credit_df.columns"
   ]
  },
  {
   "cell_type": "markdown",
   "metadata": {},
   "source": [
    "Split the data into four groups based on gender and nationality: native male, native female, foreign male, foreign female. "
   ]
  },
  {
   "cell_type": "code",
   "execution_count": 116,
   "metadata": {},
   "outputs": [
    {
     "name": "stdout",
     "output_type": "stream",
     "text": [
      "Number of samples of different sub-gropups (native male, native female, foreign male, foreign female):  32 5 658 305\n",
      "Credible samples of different sub-gropups (native male, native female, foreign male, foreign female):  29 4 470 197\n"
     ]
    }
   ],
   "source": [
    "male_idx = (credit_df['Sex & Marital Status']==1) | (credit_df['Sex & Marital Status']==3) | \\\n",
    "                 (credit_df['Sex & Marital Status']==4)\n",
    "female_idx = (credit_df['Sex & Marital Status']==2) | (credit_df['Sex & Marital Status']==5)\n",
    "native_idx = (credit_df['Foreign Worker']==2)\n",
    "foreign_idx = (credit_df['Foreign Worker']==1)\n",
    "\n",
    "# insert a column of gender, 1 female, 2 female\n",
    "credit_df.insert(loc=len(credit_df.columns), column='gender', value=1)\n",
    "credit_df.loc[male_idx, 'gender'] = 2\n",
    "\n",
    "native_male = credit_df[male_idx & native_idx]\n",
    "native_female = credit_df[female_idx & native_idx]\n",
    "foreign_male = credit_df[male_idx & foreign_idx]\n",
    "foreign_female = credit_df[female_idx & foreign_idx]\n",
    "\n",
    "print('Number of samples of different sub-gropups (native male, native female, foreign male, foreign female): ',\n",
    "     native_male.shape[0], native_female.shape[0], foreign_male.shape[0], foreign_female.shape[0])\n",
    "print('Credible samples of different sub-gropups (native male, native female, foreign male, foreign female): ',\n",
    "     native_male[native_male['Creditability']==1].shape[0], \n",
    "      native_female[native_female['Creditability']==1].shape[0], \n",
    "      foreign_male[foreign_male['Creditability']==1].shape[0], \n",
    "      foreign_female[foreign_female['Creditability']==1].shape[0])\n",
    "\n",
    "# # resample female data to have equal number of samples as male\n",
    "# resampled_female = resample(female, n_samples=len(male))\n",
    "# resampled_gender = pd.concat([male, resampled_female], axis=0, ignore_index=True)\n",
    "# resampled_gender.to_csv('./resampled_gender.csv', index=False)"
   ]
  },
  {
   "cell_type": "markdown",
   "metadata": {},
   "source": [
    "Then resample 250 samples from each sub-group with replacement. "
   ]
  },
  {
   "cell_type": "code",
   "execution_count": 117,
   "metadata": {},
   "outputs": [],
   "source": [
    "n_samp = 250\n",
    "re_native_male = resample(native_male, n_samples=n_samp)\n",
    "re_native_female = resample(native_female, n_samples=n_samp)\n",
    "re_foreign_male = resample(foreign_male, n_samples=n_samp)\n",
    "re_foreign_female = resample(foreign_female, n_samples=n_samp)\n",
    "\n",
    "resampled_df = pd.concat([re_native_male, re_native_female, re_foreign_male, re_foreign_female], \n",
    "                             ignore_index=True, axis=0)\n",
    "resampled_df = resampled_df.reset_index(drop=True)\n",
    "resampled_df.to_csv('./resampled_nation_gender.csv', index=False)"
   ]
  },
  {
   "cell_type": "markdown",
   "metadata": {},
   "source": [
    "Discrimination in resampled data"
   ]
  },
  {
   "cell_type": "code",
   "execution_count": 118,
   "metadata": {},
   "outputs": [
    {
     "name": "stdout",
     "output_type": "stream",
     "text": [
      "Total discrimination: 0.17\n",
      "Discrimination explainable by Account Balance, Payment Status of Previous Credit, Credit Amount, Value Savings/Stocks, Instalment per cent, Guarantors, Most valuable available asset, Concurrent Credits, No of Credits at this Bank: -0.03\n",
      "Unexplainable discrimination: 0.19\n",
      "************************************\n",
      "Total discrimination: 0.14\n",
      "Discrimination explainable by Account Balance, Payment Status of Previous Credit, Credit Amount, Value Savings/Stocks, Instalment per cent, Guarantors, Most valuable available asset, Concurrent Credits, No of Credits at this Bank: 0.05\n",
      "Unexplainable discrimination: 0.09\n"
     ]
    },
    {
     "data": {
      "text/plain": [
       "(0.14200000000000002, 0.04892800000000001, 0.093072)"
      ]
     },
     "execution_count": 118,
     "metadata": {},
     "output_type": "execute_result"
    }
   ],
   "source": [
    "legal = resampled_df.columns[ [1, 3, 5, 6, 8, 10, 12, 14, 16 ] ]\n",
    "maybe = resampled_df.columns[ [1, 2, 3, 4, 5, 6, 8, 10, 11, 12, 14, 15, 16, 17 ] ]\n",
    "\n",
    "discrimination(resampled_df, 'Creditability', 'Foreign Worker', list(legal))\n",
    "print('************************************')\n",
    "discrimination(resampled_df, 'Creditability', 'gender', list(legal))"
   ]
  }
 ],
 "metadata": {
  "kernelspec": {
   "display_name": "ds",
   "language": "python",
   "name": "ds"
  },
  "language_info": {
   "codemirror_mode": {
    "name": "ipython",
    "version": 3
   },
   "file_extension": ".py",
   "mimetype": "text/x-python",
   "name": "python",
   "nbconvert_exporter": "python",
   "pygments_lexer": "ipython3",
   "version": "3.6.6"
  }
 },
 "nbformat": 4,
 "nbformat_minor": 2
}
