{
 "cells": [
  {
   "cell_type": "code",
   "execution_count": 4,
   "metadata": {},
   "outputs": [],
   "source": [
    "import numpy as np\n",
    "import pandas as pd\n",
    "import matplotlib.pyplot as plt\n",
    "\n",
    "# from keras.models import Sequential, Model\n",
    "# from keras.layers import Dense, Input\n",
    "# from keras.layers import Dropout, Reshape\n",
    "# from keras.layers import Conv1D, Flatten, AveragePooling1D, MaxPooling1D\n",
    "# from keras.utils import to_categorical\n",
    "# from keras.wrappers.scikit_learn import KerasClassifier\n",
    "\n",
    "# from sklearn.model_selection import cross_val_score\n",
    "# from sklearn.model_selection import StratifiedKFold\n",
    "# from sklearn.preprocessing import StandardScaler\n",
    "# from sklearn.pipeline import Pipeline\n",
    "from sklearn.utils import resample"
   ]
  },
  {
   "cell_type": "code",
   "execution_count": 5,
   "metadata": {},
   "outputs": [
    {
     "data": {
      "text/plain": [
       "Index(['Creditability', 'Account Balance', 'Duration of Credit (month)',\n",
       "       'Payment Status of Previous Credit', 'Purpose', 'Credit Amount',\n",
       "       'Value Savings/Stocks', 'Length of current employment',\n",
       "       'Instalment per cent', 'Sex & Marital Status', 'Guarantors',\n",
       "       'Duration in Current address', 'Most valuable available asset',\n",
       "       'Age (years)', 'Concurrent Credits', 'Type of apartment',\n",
       "       'No of Credits at this Bank', 'Occupation', 'No of dependents',\n",
       "       'Telephone', 'Foreign Worker'],\n",
       "      dtype='object')"
      ]
     },
     "execution_count": 5,
     "metadata": {},
     "output_type": "execute_result"
    }
   ],
   "source": [
    "credit_df = pd.read_csv('./dataset.csv')\n",
    "credit_df.columns"
   ]
  },
  {
   "cell_type": "markdown",
   "metadata": {},
   "source": [
    "Generate more samples of female so that it's comparable to samples of male"
   ]
  },
  {
   "cell_type": "code",
   "execution_count": null,
   "metadata": {},
   "outputs": [],
   "source": [
    "male_idx = (credit_df['Sex & Marital Status']==1) | (credit_df['Sex & Marital Status']==3) | \\\n",
    "                 (credit_df['Sex & Marital Status']==4)\n",
    "female_idx = (credit_df['Sex & Marital Status']==2) | (credit_df['Sex & Marital Status']==5)\n",
    "male = credit_df[male_idx]\n",
    "female = credit_df[female_idx]\n",
    "\n",
    "# resample female data to have equal number of samples as male\n",
    "resampled_female = resample(female, n_samples=len(male))\n",
    "resampled_gender = pd.concat([male, resampled_female], axis=0, ignore_index=True)\n",
    "resampled_gender.to_csv('./resampled_gender.csv', index=False)"
   ]
  },
  {
   "cell_type": "markdown",
   "metadata": {},
   "source": [
    "Generate more samples of native worker so that it's comparable to samples of foreign worker"
   ]
  },
  {
   "cell_type": "code",
   "execution_count": 6,
   "metadata": {},
   "outputs": [],
   "source": [
    "native = credit_df[credit_df['Foreign Worker']==2]\n",
    "foreign = credit_df[credit_df['Foreign Worker']==1]\n",
    "resampled_native = resample(native, n_samples=len(foreign))\n",
    "resampled_nation = pd.concat([resampled_native, foreign], ignore_index=True, axis=0)\n",
    "resampled_nation.to_csv('./resampled_nation.csv', index=False)"
   ]
  }
 ],
 "metadata": {
  "kernelspec": {
   "display_name": "ds",
   "language": "python",
   "name": "ds"
  },
  "language_info": {
   "codemirror_mode": {
    "name": "ipython",
    "version": 3
   },
   "file_extension": ".py",
   "mimetype": "text/x-python",
   "name": "python",
   "nbconvert_exporter": "python",
   "pygments_lexer": "ipython3",
   "version": "3.6.6"
  }
 },
 "nbformat": 4,
 "nbformat_minor": 2
}
